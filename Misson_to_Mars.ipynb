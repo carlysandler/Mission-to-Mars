{
 "cells": [
  {
   "cell_type": "markdown",
   "id": "classical-alignment",
   "metadata": {},
   "source": [
    "# Scrape Mars Data: The News"
   ]
  },
  {
   "cell_type": "code",
   "execution_count": null,
   "id": "downtown-mongolia",
   "metadata": {},
   "outputs": [],
   "source": [
    "# Import Splinter and BeautifulSoup\n",
    "from splinter import Browser\n",
    "from bs4 import BeautifulSoup as soup\n",
    "from webdriver_manager.chrome import ChromeDriverManager"
   ]
  },
  {
   "cell_type": "code",
   "execution_count": null,
   "id": "taken-planner",
   "metadata": {},
   "outputs": [],
   "source": [
    "# Set up executable path\n",
    "executable_path ={'executable_path': ChromeDriverManager().install()}\n",
    "browser = Browser('chrome', **executable_path, headless=False)"
   ]
  },
  {
   "cell_type": "markdown",
   "id": "catholic-basic",
   "metadata": {},
   "source": [
    "### Assign the url and instruct the browser to visit it"
   ]
  },
  {
   "cell_type": "code",
   "execution_count": null,
   "id": "light-intensity",
   "metadata": {},
   "outputs": [],
   "source": [
    "# Visit the mars nasa news site\n",
    "url = 'https://redplanetscience.com'\n",
    "browser.visit(url)\n",
    "# Optional delay for loading the page\n",
    "browser.is_element_present_by_css('div.list_text', wait_time=1)\n",
    "    # NOTE: This line of code accomplishes two things:\n",
    "    # 1. Searchng for elements with specific combo of tag (div) and attribute (list_text)\n",
    "        # ex. `ul.item_list` -> HTML as `<ul class=\"item_list\">`\n",
    "    # 2. Telling browser to wait one second before searching for components"
   ]
  },
  {
   "cell_type": "code",
   "execution_count": null,
   "id": "sensitive-produce",
   "metadata": {},
   "outputs": [],
   "source": [
    "# Set up HTML parser\n",
    "html = browser.html\n",
    "news_soup = soup(html, 'html.parser')\n",
    "slide_elm = news_soup.select_one('div.list_text')\n",
    "    # NOTE: CSS works from right to left: returnig last item on list instead of first\n",
    "        # select_one : first matching element returned will be a <li /> element w/ class=slide + all nested elements within it"
   ]
  },
  {
   "cell_type": "code",
   "execution_count": null,
   "id": "primary-schema",
   "metadata": {},
   "outputs": [],
   "source": [
    "# Q: Which HTMLL attribute will we use to scrape the article's title?\n",
    "# A: class = \"content_title\" "
   ]
  },
  {
   "cell_type": "code",
   "execution_count": null,
   "id": "satellite-lotus",
   "metadata": {},
   "outputs": [],
   "source": [
    "# Assing the title and summary text to variables to begin scrapping\n",
    "slide_elem.find('div', class_=content_title)"
   ]
  },
  {
   "cell_type": "code",
   "execution_count": null,
   "id": "canadian-listening",
   "metadata": {},
   "outputs": [],
   "source": [
    "# Use the parent element to find the first 'a' tag and save it as `news_title`\n",
    "news_title = slide_elem.find('div', class_='content_title').get_text()\n",
    "news_title"
   ]
  },
  {
   "cell_type": "markdown",
   "id": "unlikely-complexity",
   "metadata": {},
   "source": [
    "### Next add the summary text : Change class to \"article_teaser_body\""
   ]
  },
  {
   "cell_type": "code",
   "execution_count": null,
   "id": "pleased-advisory",
   "metadata": {},
   "outputs": [],
   "source": [
    "# Use the parent element to find the paragraph text\n",
    "news_p = slide_elem.find('div', class_= 'article_teaser_body').get_text()\n",
    "news_p"
   ]
  },
  {
   "cell_type": "markdown",
   "id": "acoustic-senate",
   "metadata": {},
   "source": [
    "# Scrape Mars Data: Featured Image"
   ]
  },
  {
   "cell_type": "code",
   "execution_count": null,
   "id": "mexican-edwards",
   "metadata": {},
   "outputs": [],
   "source": [
    "# Visit URL\n",
    "url = 'https://spaceimages-mars.com'\n",
    "browser.visit(url)"
   ]
  },
  {
   "cell_type": "code",
   "execution_count": null,
   "id": "clean-brunswick",
   "metadata": {},
   "outputs": [],
   "source": [
    "# Find and click the full image button\n",
    "full_image_elem = browser.find_by_tag('button')[1] # Index : Want broswer to click second button\n",
    "full_image_elem.click()"
   ]
  },
  {
   "cell_type": "code",
   "execution_count": null,
   "id": "capable-brass",
   "metadata": {},
   "outputs": [],
   "source": [
    "# Parse the resulting html with soup\n",
    "html = browser.html\n",
    "img_soup = soup(html, 'html.parser')"
   ]
  },
  {
   "cell_type": "code",
   "execution_count": null,
   "id": "exotic-winning",
   "metadata": {},
   "outputs": [],
   "source": [
    "# Find the relative image url\n",
    "img_url_rel = img_soup.find('img', class_='fancybox-image').get('src')\n",
    "\n",
    "# BREAK DOWN CODE:\n",
    "    # 1. An `img` tag is nested within this HTML, so we've included it\n",
    "    # 2. `.get('src') pulls the link to the image\n",
    "    \n",
    "# Code allows us to pull link to image by pointing BeautifulSoup to where image will be, instead of grabbing URL directly.\n",
    "# When JPL updates image page, our code will still pull the most recent image"
   ]
  },
  {
   "cell_type": "code",
   "execution_count": null,
   "id": "competent-intranet",
   "metadata": {},
   "outputs": [],
   "source": [
    "# Use the base URL to create an absolute URL\n",
    "img_url = f'https://spaceimages-mar.com/{img_url_rel}' # f-string evaluted at run-time - print statement and variable it holds will be updated frquently as data we are scrapping is live.\n",
    "img_url\n"
   ]
  },
  {
   "cell_type": "code",
   "execution_count": null,
   "id": "polish-litigation",
   "metadata": {},
   "outputs": [],
   "source": []
  },
  {
   "cell_type": "code",
   "execution_count": null,
   "id": "widespread-expression",
   "metadata": {},
   "outputs": [],
   "source": []
  },
  {
   "cell_type": "code",
   "execution_count": null,
   "id": "express-tourism",
   "metadata": {},
   "outputs": [],
   "source": []
  }
 ],
 "metadata": {
  "kernelspec": {
   "display_name": "PythonData",
   "language": "python",
   "name": "pythondata"
  },
  "language_info": {
   "codemirror_mode": {
    "name": "ipython",
    "version": 3
   },
   "file_extension": ".py",
   "mimetype": "text/x-python",
   "name": "python",
   "nbconvert_exporter": "python",
   "pygments_lexer": "ipython3",
   "version": "3.9.2"
  }
 },
 "nbformat": 4,
 "nbformat_minor": 5
}
